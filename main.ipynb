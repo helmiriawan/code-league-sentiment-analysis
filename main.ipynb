{
  "nbformat": 4,
  "nbformat_minor": 0,
  "metadata": {
    "kernelspec": {
      "name": "python3",
      "display_name": "Python 3",
      "language": "python"
    },
    "language_info": {
      "name": "python",
      "version": "3.7.6",
      "mimetype": "text/x-python",
      "codemirror_mode": {
        "name": "ipython",
        "version": 3
      },
      "pygments_lexer": "ipython3",
      "nbconvert_exporter": "python",
      "file_extension": ".py"
    },
    "colab": {
      "name": "main.ipynb",
      "provenance": []
    },
    "accelerator": "GPU"
  },
  "cells": [
    {
      "cell_type": "code",
      "metadata": {
        "id": "tW2m5Yr9-K6I",
        "colab_type": "code",
        "colab": {
          "base_uri": "https://localhost:8080/",
          "height": 202
        },
        "outputId": "6d6d9e8a-062c-4741-9f8a-fa01e0cb0026"
      },
      "source": [
        "!pip install pytypo\n",
        "!pip install emoji"
      ],
      "execution_count": 1,
      "outputs": [
        {
          "output_type": "stream",
          "text": [
            "Requirement already satisfied: pytypo in /usr/local/lib/python3.6/dist-packages (0.3.0)\n",
            "Collecting emoji\n",
            "\u001b[?25l  Downloading https://files.pythonhosted.org/packages/40/8d/521be7f0091fe0f2ae690cc044faf43e3445e0ff33c574eae752dd7e39fa/emoji-0.5.4.tar.gz (43kB)\n",
            "\u001b[K     |████████████████████████████████| 51kB 3.1MB/s \n",
            "\u001b[?25hBuilding wheels for collected packages: emoji\n",
            "  Building wheel for emoji (setup.py) ... \u001b[?25l\u001b[?25hdone\n",
            "  Created wheel for emoji: filename=emoji-0.5.4-cp36-none-any.whl size=42176 sha256=3084cd4526c1b5d705df6d3099407a3b56b27c6aa018403467f165bfc405399d\n",
            "  Stored in directory: /root/.cache/pip/wheels/2a/a9/0a/4f8e8cce8074232aba240caca3fade315bb49fac68808d1a9c\n",
            "Successfully built emoji\n",
            "Installing collected packages: emoji\n",
            "Successfully installed emoji-0.5.4\n"
          ],
          "name": "stdout"
        }
      ]
    },
    {
      "cell_type": "code",
      "metadata": {
        "_uuid": "8f2839f25d086af736a60e9eeb907d3b93b6e0e5",
        "_cell_guid": "b1076dfc-b9ad-4769-8c92-a6c4dae69d19",
        "trusted": true,
        "id": "52fhDPLrC-Pf",
        "colab_type": "code",
        "colab": {}
      },
      "source": [
        "import io\n",
        "import re\n",
        "import pytypo\n",
        "import numpy as np\n",
        "import pandas as pd\n",
        "import tensorflow as tf\n",
        "\n",
        "from emoji import UNICODE_EMOJI\n",
        "from sklearn.metrics import accuracy_score\n",
        "from sklearn.model_selection import train_test_split"
      ],
      "execution_count": 2,
      "outputs": []
    },
    {
      "cell_type": "code",
      "metadata": {
        "id": "8y3tg4voDL1P",
        "colab_type": "code",
        "colab": {
          "base_uri": "https://localhost:8080/",
          "height": 34
        },
        "outputId": "a3529ace-c4d3-4c57-c047-e9271af0bad4"
      },
      "source": [
        "# Mount gdrive\n",
        "from google.colab import drive, files\n",
        "drive.mount('gdrive')"
      ],
      "execution_count": 3,
      "outputs": [
        {
          "output_type": "stream",
          "text": [
            "Drive already mounted at gdrive; to attempt to forcibly remount, call drive.mount(\"gdrive\", force_remount=True).\n"
          ],
          "name": "stdout"
        }
      ]
    },
    {
      "cell_type": "code",
      "metadata": {
        "_uuid": "d629ff2d2480ee46fbb7e2d37f6b5fab8052498a",
        "_cell_guid": "79c7e3d0-c299-4dcb-8224-4455121ee9b0",
        "trusted": true,
        "id": "Q9BGgGTxC-Pi",
        "colab_type": "code",
        "colab": {}
      },
      "source": [
        "# Specify the location of training and test file\n",
        "training_file = 'gdrive/My Drive/shopee/train.csv'\n",
        "test_file = 'gdrive/My Drive/shopee/test.csv'"
      ],
      "execution_count": 4,
      "outputs": []
    },
    {
      "cell_type": "code",
      "metadata": {
        "trusted": true,
        "id": "Q3JTByjnC-Pn",
        "colab_type": "code",
        "colab": {}
      },
      "source": [
        "# Load to dataframe\n",
        "training_data = pd.read_csv(training_file)\n",
        "test_data = pd.read_csv(test_file)"
      ],
      "execution_count": 5,
      "outputs": []
    },
    {
      "cell_type": "code",
      "metadata": {
        "trusted": true,
        "id": "XdBdq8TmC-Pp",
        "colab_type": "code",
        "colab": {
          "base_uri": "https://localhost:8080/",
          "height": 195
        },
        "outputId": "cadaa3f4-9b0c-418c-a562-cbc33f7e8757"
      },
      "source": [
        "# Show some examples of training data\n",
        "training_data.head()"
      ],
      "execution_count": 6,
      "outputs": [
        {
          "output_type": "execute_result",
          "data": {
            "text/html": [
              "<div>\n",
              "<style scoped>\n",
              "    .dataframe tbody tr th:only-of-type {\n",
              "        vertical-align: middle;\n",
              "    }\n",
              "\n",
              "    .dataframe tbody tr th {\n",
              "        vertical-align: top;\n",
              "    }\n",
              "\n",
              "    .dataframe thead th {\n",
              "        text-align: right;\n",
              "    }\n",
              "</style>\n",
              "<table border=\"1\" class=\"dataframe\">\n",
              "  <thead>\n",
              "    <tr style=\"text-align: right;\">\n",
              "      <th></th>\n",
              "      <th>review_id</th>\n",
              "      <th>review</th>\n",
              "      <th>rating</th>\n",
              "    </tr>\n",
              "  </thead>\n",
              "  <tbody>\n",
              "    <tr>\n",
              "      <th>0</th>\n",
              "      <td>0</td>\n",
              "      <td>Ga disappointed neat products .. Meletot Hilsn...</td>\n",
              "      <td>1</td>\n",
              "    </tr>\n",
              "    <tr>\n",
              "      <th>1</th>\n",
              "      <td>1</td>\n",
              "      <td>Rdtanya replace broken glass, broken chargernya</td>\n",
              "      <td>1</td>\n",
              "    </tr>\n",
              "    <tr>\n",
              "      <th>2</th>\n",
              "      <td>2</td>\n",
              "      <td>Nyesel bngt dsni shopping antecedent photo mes...</td>\n",
              "      <td>1</td>\n",
              "    </tr>\n",
              "    <tr>\n",
              "      <th>3</th>\n",
              "      <td>3</td>\n",
              "      <td>Sent a light blue suit goods ga want a refund</td>\n",
              "      <td>1</td>\n",
              "    </tr>\n",
              "    <tr>\n",
              "      <th>4</th>\n",
              "      <td>4</td>\n",
              "      <td>Pendants came with dents and scratches on its ...</td>\n",
              "      <td>1</td>\n",
              "    </tr>\n",
              "  </tbody>\n",
              "</table>\n",
              "</div>"
            ],
            "text/plain": [
              "   review_id                                             review  rating\n",
              "0          0  Ga disappointed neat products .. Meletot Hilsn...       1\n",
              "1          1    Rdtanya replace broken glass, broken chargernya       1\n",
              "2          2  Nyesel bngt dsni shopping antecedent photo mes...       1\n",
              "3          3      Sent a light blue suit goods ga want a refund       1\n",
              "4          4  Pendants came with dents and scratches on its ...       1"
            ]
          },
          "metadata": {
            "tags": []
          },
          "execution_count": 6
        }
      ]
    },
    {
      "cell_type": "code",
      "metadata": {
        "trusted": true,
        "id": "Bg3UYz5nC-Ps",
        "colab_type": "code",
        "colab": {
          "base_uri": "https://localhost:8080/",
          "height": 34
        },
        "outputId": "2071b41f-bf19-47c0-e2ce-d1c5cabe2a37"
      },
      "source": [
        "# Show number of samples\n",
        "training_data.shape[0]"
      ],
      "execution_count": 7,
      "outputs": [
        {
          "output_type": "execute_result",
          "data": {
            "text/plain": [
              "146811"
            ]
          },
          "metadata": {
            "tags": []
          },
          "execution_count": 7
        }
      ]
    },
    {
      "cell_type": "code",
      "metadata": {
        "trusted": true,
        "id": "H0VgLvx5C-Pw",
        "colab_type": "code",
        "colab": {
          "base_uri": "https://localhost:8080/",
          "height": 195
        },
        "outputId": "743083da-fe66-4728-a83c-742b6e160215"
      },
      "source": [
        "# Show some examples of test data\n",
        "test_data.head()"
      ],
      "execution_count": 8,
      "outputs": [
        {
          "output_type": "execute_result",
          "data": {
            "text/html": [
              "<div>\n",
              "<style scoped>\n",
              "    .dataframe tbody tr th:only-of-type {\n",
              "        vertical-align: middle;\n",
              "    }\n",
              "\n",
              "    .dataframe tbody tr th {\n",
              "        vertical-align: top;\n",
              "    }\n",
              "\n",
              "    .dataframe thead th {\n",
              "        text-align: right;\n",
              "    }\n",
              "</style>\n",
              "<table border=\"1\" class=\"dataframe\">\n",
              "  <thead>\n",
              "    <tr style=\"text-align: right;\">\n",
              "      <th></th>\n",
              "      <th>review_id</th>\n",
              "      <th>review</th>\n",
              "    </tr>\n",
              "  </thead>\n",
              "  <tbody>\n",
              "    <tr>\n",
              "      <th>0</th>\n",
              "      <td>1</td>\n",
              "      <td>Great danger, cool, motif and cantik2 jg model...</td>\n",
              "    </tr>\n",
              "    <tr>\n",
              "      <th>1</th>\n",
              "      <td>2</td>\n",
              "      <td>One of the shades don't fit well</td>\n",
              "    </tr>\n",
              "    <tr>\n",
              "      <th>2</th>\n",
              "      <td>3</td>\n",
              "      <td>Very comfortable</td>\n",
              "    </tr>\n",
              "    <tr>\n",
              "      <th>3</th>\n",
              "      <td>4</td>\n",
              "      <td>Fast delivery. Product expiry is on Dec 2022. ...</td>\n",
              "    </tr>\n",
              "    <tr>\n",
              "      <th>4</th>\n",
              "      <td>5</td>\n",
              "      <td>it's sooooo cute! i like playing with the glit...</td>\n",
              "    </tr>\n",
              "  </tbody>\n",
              "</table>\n",
              "</div>"
            ],
            "text/plain": [
              "   review_id                                             review\n",
              "0          1  Great danger, cool, motif and cantik2 jg model...\n",
              "1          2                   One of the shades don't fit well\n",
              "2          3                                   Very comfortable\n",
              "3          4  Fast delivery. Product expiry is on Dec 2022. ...\n",
              "4          5  it's sooooo cute! i like playing with the glit..."
            ]
          },
          "metadata": {
            "tags": []
          },
          "execution_count": 8
        }
      ]
    },
    {
      "cell_type": "code",
      "metadata": {
        "id": "Ymt3Hm8Tb3_R",
        "colab_type": "code",
        "colab": {}
      },
      "source": [
        "# Convert rating to score\n",
        "training_data['score'] = training_data.rating.apply(\n",
        "    lambda rating: rating / 5 - 0.1\n",
        ")"
      ],
      "execution_count": 9,
      "outputs": []
    },
    {
      "cell_type": "code",
      "metadata": {
        "id": "9q2013VNSqke",
        "colab_type": "code",
        "colab": {}
      },
      "source": [
        "# Check if a character is emoji\n",
        "def is_emoji(char):\n",
        "    return char in UNICODE_EMOJI\n",
        "\n",
        "# Add whitespaces around an emoji\n",
        "def add_emoji_space(text):\n",
        "    return(\n",
        "        ''.join(' ' + char + ' ' if is_emoji(char) else char for char in text)\n",
        "    )"
      ],
      "execution_count": 10,
      "outputs": []
    },
    {
      "cell_type": "code",
      "metadata": {
        "id": "5aBDaI9M-ViW",
        "colab_type": "code",
        "colab": {}
      },
      "source": [
        "# Function to check elongated word\n",
        "def has_long(sentence):\n",
        "    elong = re.compile(\"([a-zA-Z])\\\\1{2,}\")\n",
        "    return bool(elong.search(sentence))"
      ],
      "execution_count": 11,
      "outputs": []
    },
    {
      "cell_type": "code",
      "metadata": {
        "id": "PndfW-TB-W1I",
        "colab_type": "code",
        "colab": {}
      },
      "source": [
        "# Function to fix a sentence with elongated word\n",
        "def fix_long(sentence):\n",
        "\n",
        "    # Initialization\n",
        "    result = ''\n",
        "\n",
        "    # Fix the sentence\n",
        "    for word in sentence.split(' '):\n",
        "        if has_long(word):\n",
        "            word = pytypo.correct(word)\n",
        "        result += word + ' '\n",
        "    \n",
        "    return(result)"
      ],
      "execution_count": 12,
      "outputs": []
    },
    {
      "cell_type": "code",
      "metadata": {
        "id": "cboXDD9t-Yby",
        "colab_type": "code",
        "colab": {}
      },
      "source": [
        "# Function for text preprocessing\n",
        "def preprocessing(text):\n",
        "    \n",
        "    # Create a space between a word and punctuation\n",
        "    result = add_emoji_space(text)\n",
        "    result = re.sub(r\"([?.!,¿])\", r\" \\1 \", result)\n",
        "    result = re.sub(r'[\" \"]+', \" \", result)\n",
        "\n",
        "    # Fix elongated word\n",
        "    if has_long(result):\n",
        "        result = fix_long(result)\n",
        "\n",
        "    return(result)"
      ],
      "execution_count": 13,
      "outputs": []
    },
    {
      "cell_type": "code",
      "metadata": {
        "trusted": true,
        "id": "Dy4GOkS1C-QA",
        "colab_type": "code",
        "colab": {
          "base_uri": "https://localhost:8080/",
          "height": 34
        },
        "outputId": "2b260aff-16ce-4f39-fd5e-e1db7d718315"
      },
      "source": [
        "# Get review data\n",
        "reviews = training_data.review.tolist()\n",
        "reviews = [preprocessing(review) for review in reviews]\n",
        "print(reviews[-1])"
      ],
      "execution_count": 14,
      "outputs": [
        {
          "output_type": "stream",
          "text": [
            " Excellent product quality excellent product price is very good delivery speed\n"
          ],
          "name": "stdout"
        }
      ]
    },
    {
      "cell_type": "code",
      "metadata": {
        "trusted": true,
        "id": "7d0-GPnwC-QD",
        "colab_type": "code",
        "colab": {}
      },
      "source": [
        "# Function to tokenize the words\n",
        "def tokenize(texts, num_words=None):\n",
        "    tokenizer = tf.keras.preprocessing.text.Tokenizer(\n",
        "        filters='',\n",
        "        num_words=num_words,\n",
        "        oov_token='<UNK>'\n",
        "    )\n",
        "    tokenizer.fit_on_texts(texts)\n",
        "  \n",
        "    sequences = tokenizer.texts_to_sequences(texts)\n",
        "    sequences = tf.keras.preprocessing.sequence.pad_sequences(\n",
        "        sequences,\n",
        "        padding='post'\n",
        "    )\n",
        "\n",
        "    return sequences, tokenizer"
      ],
      "execution_count": 15,
      "outputs": []
    },
    {
      "cell_type": "code",
      "metadata": {
        "trusted": true,
        "id": "rJ5-75r_C-QF",
        "colab_type": "code",
        "colab": {}
      },
      "source": [
        "# Tokenize the words\n",
        "sequences, tokenizer = tokenize(reviews, num_words=8000)"
      ],
      "execution_count": 16,
      "outputs": []
    },
    {
      "cell_type": "code",
      "metadata": {
        "trusted": true,
        "id": "DIcW3ogmC-QJ",
        "colab_type": "code",
        "colab": {}
      },
      "source": [
        "# Get score data\n",
        "scores = training_data.score.tolist()"
      ],
      "execution_count": 17,
      "outputs": []
    },
    {
      "cell_type": "code",
      "metadata": {
        "trusted": true,
        "id": "Nsj-4aTYC-QL",
        "colab_type": "code",
        "colab": {}
      },
      "source": [
        "# Creating training and validation sets using an 80-20 split\n",
        "x_train, x_validation, y_train, y_validation = train_test_split(\n",
        "    sequences, \n",
        "    scores, \n",
        "    test_size=0.2\n",
        ")"
      ],
      "execution_count": 18,
      "outputs": []
    },
    {
      "cell_type": "code",
      "metadata": {
        "trusted": true,
        "id": "uvnBtWz2C-QO",
        "colab_type": "code",
        "colab": {}
      },
      "source": [
        "# Create tf dataset\n",
        "BUFFER_SIZE = len(x_train)\n",
        "BATCH_SIZE = 64\n",
        "\n",
        "train_set = tf.data.Dataset.from_tensor_slices((x_train, y_train))\n",
        "train_set = train_set.shuffle(BUFFER_SIZE)\n",
        "train_set = train_set.batch(BATCH_SIZE)\n",
        "\n",
        "validation_set = tf.data.Dataset.from_tensor_slices(\n",
        "    (x_validation, y_validation)\n",
        ")\n",
        "validation_set = validation_set.batch(BATCH_SIZE)"
      ],
      "execution_count": 19,
      "outputs": []
    },
    {
      "cell_type": "code",
      "metadata": {
        "trusted": true,
        "id": "qmRm0PEKC-QR",
        "colab_type": "code",
        "colab": {}
      },
      "source": [
        "# Define the model\n",
        "model = tf.keras.Sequential([\n",
        "    tf.keras.layers.Embedding(tokenizer.num_words, 64),\n",
        "    tf.keras.layers.Bidirectional(tf.keras.layers.LSTM(64)),\n",
        "    tf.keras.layers.Dense(64, activation='relu'),\n",
        "    tf.keras.layers.Dense(1, activation='sigmoid')\n",
        "])"
      ],
      "execution_count": 20,
      "outputs": []
    },
    {
      "cell_type": "code",
      "metadata": {
        "trusted": true,
        "id": "avM7sEm-C-QV",
        "colab_type": "code",
        "colab": {}
      },
      "source": [
        "# Compile the model\n",
        "model.compile(\n",
        "  loss=tf.keras.losses.MeanAbsoluteError(),\n",
        "  optimizer=tf.keras.optimizers.Adam(1e-4),\n",
        "  metrics=['mean_absolute_error']\n",
        ")"
      ],
      "execution_count": 21,
      "outputs": []
    },
    {
      "cell_type": "code",
      "metadata": {
        "id": "fPgvpKWnngwt",
        "colab_type": "code",
        "colab": {}
      },
      "source": [
        "# Create a callback that saves the model\n",
        "callback = tf.keras.callbacks.ModelCheckpoint(\n",
        "    filepath='model.h5',\n",
        "    save_best_only=True,\n",
        "    verbose=1\n",
        ")"
      ],
      "execution_count": 22,
      "outputs": []
    },
    {
      "cell_type": "code",
      "metadata": {
        "trusted": true,
        "id": "aVcMuIR_C-QX",
        "colab_type": "code",
        "colab": {
          "base_uri": "https://localhost:8080/",
          "height": 1000
        },
        "outputId": "7ea96dcb-06d2-4403-a6a5-0ba26e11293a"
      },
      "source": [
        "# Train the model\n",
        "history = model.fit(\n",
        "  train_set, \n",
        "  epochs=20,\n",
        "  validation_data=validation_set,\n",
        "  callbacks=[callback]\n",
        ")"
      ],
      "execution_count": 23,
      "outputs": [
        {
          "output_type": "stream",
          "text": [
            "Epoch 1/20\n",
            "1836/1836 [==============================] - ETA: 0s - loss: 0.1586 - mean_absolute_error: 0.1586\n",
            "Epoch 00001: val_loss improved from inf to 0.14055, saving model to model.h5\n",
            "1836/1836 [==============================] - 375s 204ms/step - loss: 0.1586 - mean_absolute_error: 0.1586 - val_loss: 0.1405 - val_mean_absolute_error: 0.1405\n",
            "Epoch 2/20\n",
            "1836/1836 [==============================] - ETA: 0s - loss: 0.1362 - mean_absolute_error: 0.1362\n",
            "Epoch 00002: val_loss improved from 0.14055 to 0.13755, saving model to model.h5\n",
            "1836/1836 [==============================] - 367s 200ms/step - loss: 0.1362 - mean_absolute_error: 0.1362 - val_loss: 0.1375 - val_mean_absolute_error: 0.1375\n",
            "Epoch 3/20\n",
            "1836/1836 [==============================] - ETA: 0s - loss: 0.1319 - mean_absolute_error: 0.1319\n",
            "Epoch 00003: val_loss improved from 0.13755 to 0.13601, saving model to model.h5\n",
            "1836/1836 [==============================] - 363s 198ms/step - loss: 0.1319 - mean_absolute_error: 0.1319 - val_loss: 0.1360 - val_mean_absolute_error: 0.1360\n",
            "Epoch 4/20\n",
            "1836/1836 [==============================] - ETA: 0s - loss: 0.1292 - mean_absolute_error: 0.1292\n",
            "Epoch 00004: val_loss improved from 0.13601 to 0.13515, saving model to model.h5\n",
            "1836/1836 [==============================] - 365s 199ms/step - loss: 0.1292 - mean_absolute_error: 0.1292 - val_loss: 0.1352 - val_mean_absolute_error: 0.1352\n",
            "Epoch 5/20\n",
            "1836/1836 [==============================] - ETA: 0s - loss: 0.1269 - mean_absolute_error: 0.1269\n",
            "Epoch 00005: val_loss improved from 0.13515 to 0.13394, saving model to model.h5\n",
            "1836/1836 [==============================] - 365s 199ms/step - loss: 0.1269 - mean_absolute_error: 0.1269 - val_loss: 0.1339 - val_mean_absolute_error: 0.1339\n",
            "Epoch 6/20\n",
            "1836/1836 [==============================] - ETA: 0s - loss: 0.1251 - mean_absolute_error: 0.1251\n",
            "Epoch 00006: val_loss improved from 0.13394 to 0.13353, saving model to model.h5\n",
            "1836/1836 [==============================] - 363s 198ms/step - loss: 0.1251 - mean_absolute_error: 0.1251 - val_loss: 0.1335 - val_mean_absolute_error: 0.1335\n",
            "Epoch 7/20\n",
            "1836/1836 [==============================] - ETA: 0s - loss: 0.1234 - mean_absolute_error: 0.1234\n",
            "Epoch 00007: val_loss improved from 0.13353 to 0.13328, saving model to model.h5\n",
            "1836/1836 [==============================] - 362s 197ms/step - loss: 0.1234 - mean_absolute_error: 0.1234 - val_loss: 0.1333 - val_mean_absolute_error: 0.1333\n",
            "Epoch 8/20\n",
            "1836/1836 [==============================] - ETA: 0s - loss: 0.1221 - mean_absolute_error: 0.1221\n",
            "Epoch 00008: val_loss did not improve from 0.13328\n",
            "1836/1836 [==============================] - 364s 198ms/step - loss: 0.1221 - mean_absolute_error: 0.1221 - val_loss: 0.1334 - val_mean_absolute_error: 0.1334\n",
            "Epoch 9/20\n",
            "1836/1836 [==============================] - ETA: 0s - loss: 0.1209 - mean_absolute_error: 0.1209\n",
            "Epoch 00009: val_loss did not improve from 0.13328\n",
            "1836/1836 [==============================] - 363s 198ms/step - loss: 0.1209 - mean_absolute_error: 0.1209 - val_loss: 0.1334 - val_mean_absolute_error: 0.1334\n",
            "Epoch 10/20\n",
            "1836/1836 [==============================] - ETA: 0s - loss: 0.1195 - mean_absolute_error: 0.1195\n",
            "Epoch 00010: val_loss did not improve from 0.13328\n",
            "1836/1836 [==============================] - 363s 198ms/step - loss: 0.1195 - mean_absolute_error: 0.1195 - val_loss: 0.1336 - val_mean_absolute_error: 0.1336\n",
            "Epoch 11/20\n",
            "1836/1836 [==============================] - ETA: 0s - loss: 0.1183 - mean_absolute_error: 0.1183\n",
            "Epoch 00011: val_loss improved from 0.13328 to 0.13230, saving model to model.h5\n",
            "1836/1836 [==============================] - 360s 196ms/step - loss: 0.1183 - mean_absolute_error: 0.1183 - val_loss: 0.1323 - val_mean_absolute_error: 0.1323\n",
            "Epoch 12/20\n",
            "1836/1836 [==============================] - ETA: 0s - loss: 0.1170 - mean_absolute_error: 0.1170\n",
            "Epoch 00012: val_loss did not improve from 0.13230\n",
            "1836/1836 [==============================] - 359s 195ms/step - loss: 0.1170 - mean_absolute_error: 0.1170 - val_loss: 0.1325 - val_mean_absolute_error: 0.1325\n",
            "Epoch 13/20\n",
            "1836/1836 [==============================] - ETA: 0s - loss: 0.1161 - mean_absolute_error: 0.1161\n",
            "Epoch 00013: val_loss improved from 0.13230 to 0.13138, saving model to model.h5\n",
            "1836/1836 [==============================] - 358s 195ms/step - loss: 0.1161 - mean_absolute_error: 0.1161 - val_loss: 0.1314 - val_mean_absolute_error: 0.1314\n",
            "Epoch 14/20\n",
            "1836/1836 [==============================] - ETA: 0s - loss: 0.1150 - mean_absolute_error: 0.1150\n",
            "Epoch 00014: val_loss improved from 0.13138 to 0.13135, saving model to model.h5\n",
            "1836/1836 [==============================] - 359s 195ms/step - loss: 0.1150 - mean_absolute_error: 0.1150 - val_loss: 0.1314 - val_mean_absolute_error: 0.1314\n",
            "Epoch 15/20\n",
            "1836/1836 [==============================] - ETA: 0s - loss: 0.1137 - mean_absolute_error: 0.1137\n",
            "Epoch 00015: val_loss improved from 0.13135 to 0.13127, saving model to model.h5\n",
            "1836/1836 [==============================] - 354s 193ms/step - loss: 0.1137 - mean_absolute_error: 0.1137 - val_loss: 0.1313 - val_mean_absolute_error: 0.1313\n",
            "Epoch 16/20\n",
            "1836/1836 [==============================] - ETA: 0s - loss: 0.1128 - mean_absolute_error: 0.1128\n",
            "Epoch 00016: val_loss improved from 0.13127 to 0.13084, saving model to model.h5\n",
            "1836/1836 [==============================] - 353s 192ms/step - loss: 0.1128 - mean_absolute_error: 0.1128 - val_loss: 0.1308 - val_mean_absolute_error: 0.1308\n",
            "Epoch 17/20\n",
            "1836/1836 [==============================] - ETA: 0s - loss: 0.1118 - mean_absolute_error: 0.1118\n",
            "Epoch 00017: val_loss improved from 0.13084 to 0.13058, saving model to model.h5\n",
            "1836/1836 [==============================] - 353s 192ms/step - loss: 0.1118 - mean_absolute_error: 0.1118 - val_loss: 0.1306 - val_mean_absolute_error: 0.1306\n",
            "Epoch 18/20\n",
            "1836/1836 [==============================] - ETA: 0s - loss: 0.1113 - mean_absolute_error: 0.1113\n",
            "Epoch 00018: val_loss did not improve from 0.13058\n",
            "1836/1836 [==============================] - 353s 192ms/step - loss: 0.1113 - mean_absolute_error: 0.1113 - val_loss: 0.1308 - val_mean_absolute_error: 0.1308\n",
            "Epoch 19/20\n",
            "1836/1836 [==============================] - ETA: 0s - loss: 0.1099 - mean_absolute_error: 0.1099\n",
            "Epoch 00019: val_loss did not improve from 0.13058\n",
            "1836/1836 [==============================] - 351s 191ms/step - loss: 0.1099 - mean_absolute_error: 0.1099 - val_loss: 0.1306 - val_mean_absolute_error: 0.1306\n",
            "Epoch 20/20\n",
            "1836/1836 [==============================] - ETA: 0s - loss: 0.1090 - mean_absolute_error: 0.1090\n",
            "Epoch 00020: val_loss did not improve from 0.13058\n",
            "1836/1836 [==============================] - 347s 189ms/step - loss: 0.1090 - mean_absolute_error: 0.1090 - val_loss: 0.1306 - val_mean_absolute_error: 0.1306\n"
          ],
          "name": "stdout"
        }
      ]
    },
    {
      "cell_type": "code",
      "metadata": {
        "id": "mBf5PNACn_YQ",
        "colab_type": "code",
        "colab": {
          "base_uri": "https://localhost:8080/",
          "height": 50
        },
        "outputId": "add3d157-1c2b-44e6-bce4-9797fb41cffc"
      },
      "source": [
        "# Load the best model\n",
        "model = tf.keras.models.load_model('model.h5')\n",
        "model.evaluate(validation_set)"
      ],
      "execution_count": 24,
      "outputs": [
        {
          "output_type": "stream",
          "text": [
            "459/459 [==============================] - 28s 60ms/step - loss: 0.1306 - mean_absolute_error: 0.1306\n"
          ],
          "name": "stdout"
        },
        {
          "output_type": "execute_result",
          "data": {
            "text/plain": [
              "[0.13057896494865417, 0.13057896494865417]"
            ]
          },
          "metadata": {
            "tags": []
          },
          "execution_count": 24
        }
      ]
    },
    {
      "cell_type": "code",
      "metadata": {
        "id": "qjjkSIbjYW1Z",
        "colab_type": "code",
        "colab": {}
      },
      "source": [
        "# Make prediction\n",
        "score_prediction = model.predict(x_validation)\n",
        "score_prediction = score_prediction.flatten().tolist()"
      ],
      "execution_count": 25,
      "outputs": []
    },
    {
      "cell_type": "code",
      "metadata": {
        "id": "eFWqzyI9PaYL",
        "colab_type": "code",
        "colab": {}
      },
      "source": [
        "# Function to convert score to rating\n",
        "def score_to_rating(input_list):\n",
        "    \n",
        "    result = []\n",
        "    for score in input_list:\n",
        "        if score < 0.2:\n",
        "            result.append(1)\n",
        "        elif 0.2 <= score < 0.4:\n",
        "            result.append(2)\n",
        "        elif 0.4 <= score < 0.6:\n",
        "            result.append(3)\n",
        "        elif 0.6 <= score < 0.8:\n",
        "            result.append(4)\n",
        "        else:\n",
        "            result.append(5)\n",
        "    \n",
        "    return(result)"
      ],
      "execution_count": 26,
      "outputs": []
    },
    {
      "cell_type": "code",
      "metadata": {
        "id": "VufKi1xcQGw2",
        "colab_type": "code",
        "colab": {}
      },
      "source": [
        "# Convert score to rating\n",
        "rating_prediction = score_to_rating(score_prediction)\n",
        "rating_actual = score_to_rating(y_validation)"
      ],
      "execution_count": 27,
      "outputs": []
    },
    {
      "cell_type": "code",
      "metadata": {
        "id": "5XT4YVUxMjou",
        "colab_type": "code",
        "colab": {
          "base_uri": "https://localhost:8080/",
          "height": 34
        },
        "outputId": "b27740f1-0daa-422d-d0c0-2feba96374a1"
      },
      "source": [
        "# Show accuracy \n",
        "accuracy_score(rating_actual, rating_prediction)"
      ],
      "execution_count": 28,
      "outputs": [
        {
          "output_type": "execute_result",
          "data": {
            "text/plain": [
              "0.46347444062255216"
            ]
          },
          "metadata": {
            "tags": []
          },
          "execution_count": 28
        }
      ]
    },
    {
      "cell_type": "code",
      "metadata": {
        "id": "0fgtu8KapAfE",
        "colab_type": "code",
        "colab": {
          "base_uri": "https://localhost:8080/",
          "height": 50
        },
        "outputId": "303f9cd0-5e40-4066-b181-7de407ccdc25"
      },
      "source": [
        "# Get test data\n",
        "test_reviews = test_data.review.tolist()\n",
        "test_reviews = [preprocessing(review) for review in test_reviews]\n",
        "test_sequences = tokenizer.texts_to_sequences(test_reviews)\n",
        "test_sequences = tf.keras.preprocessing.sequence.pad_sequences(\n",
        "    test_sequences,\n",
        "    padding='post',\n",
        "    maxlen=sequences.shape[1]\n",
        ")\n",
        "print(test_reviews[-1])"
      ],
      "execution_count": 29,
      "outputs": [
        {
          "output_type": "stream",
          "text": [
            "Rapid response and detail . . . \n",
            "Thanks gan , the goods have been received well n packing a secure . . . . \n"
          ],
          "name": "stdout"
        }
      ]
    },
    {
      "cell_type": "code",
      "metadata": {
        "id": "Bd7D1AYtoOKx",
        "colab_type": "code",
        "colab": {}
      },
      "source": [
        "# Predict the test data\n",
        "prediction = model.predict(test_sequences)\n",
        "prediction = prediction.flatten().tolist()"
      ],
      "execution_count": 30,
      "outputs": []
    },
    {
      "cell_type": "code",
      "metadata": {
        "id": "PCmPY_2UX8iw",
        "colab_type": "code",
        "colab": {}
      },
      "source": [
        "# Convert score to rating\n",
        "prediction = score_to_rating(prediction)"
      ],
      "execution_count": 31,
      "outputs": []
    },
    {
      "cell_type": "code",
      "metadata": {
        "id": "p5GsZFa2rUyl",
        "colab_type": "code",
        "colab": {}
      },
      "source": [
        "# Add prediction to dataframe\n",
        "test_data['rating'] = prediction"
      ],
      "execution_count": 32,
      "outputs": []
    },
    {
      "cell_type": "code",
      "metadata": {
        "id": "yFgIg7oAsC1z",
        "colab_type": "code",
        "colab": {}
      },
      "source": [
        "# Export to a csv file\n",
        "test_data.loc[:, ['review_id', 'rating']].to_csv(\n",
        "    'submission.csv', index=False, header=True\n",
        ")"
      ],
      "execution_count": 33,
      "outputs": []
    }
  ]
}