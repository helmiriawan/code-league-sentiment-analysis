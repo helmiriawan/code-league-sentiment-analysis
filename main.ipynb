{
  "nbformat": 4,
  "nbformat_minor": 0,
  "metadata": {
    "kernelspec": {
      "name": "python3",
      "display_name": "Python 3",
      "language": "python"
    },
    "language_info": {
      "name": "python",
      "version": "3.7.6",
      "mimetype": "text/x-python",
      "codemirror_mode": {
        "name": "ipython",
        "version": 3
      },
      "pygments_lexer": "ipython3",
      "nbconvert_exporter": "python",
      "file_extension": ".py"
    },
    "colab": {
      "name": "main.ipynb",
      "provenance": []
    },
    "accelerator": "GPU"
  },
  "cells": [
    {
      "cell_type": "code",
      "metadata": {
        "_uuid": "8f2839f25d086af736a60e9eeb907d3b93b6e0e5",
        "_cell_guid": "b1076dfc-b9ad-4769-8c92-a6c4dae69d19",
        "trusted": true,
        "id": "52fhDPLrC-Pf",
        "colab_type": "code",
        "colab": {}
      },
      "source": [
        "import io\n",
        "import numpy as np\n",
        "import pandas as pd\n",
        "import tensorflow as tf\n",
        "\n",
        "from sklearn.model_selection import train_test_split\n",
        "from sklearn.metrics import accuracy_score"
      ],
      "execution_count": 1,
      "outputs": []
    },
    {
      "cell_type": "code",
      "metadata": {
        "id": "8y3tg4voDL1P",
        "colab_type": "code",
        "colab": {
          "base_uri": "https://localhost:8080/",
          "height": 34
        },
        "outputId": "3752cb97-c36f-4aa2-9051-7cf54fa130ce"
      },
      "source": [
        "# Mount gdrive\n",
        "from google.colab import drive, files\n",
        "drive.mount('gdrive')"
      ],
      "execution_count": 2,
      "outputs": [
        {
          "output_type": "stream",
          "text": [
            "Drive already mounted at gdrive; to attempt to forcibly remount, call drive.mount(\"gdrive\", force_remount=True).\n"
          ],
          "name": "stdout"
        }
      ]
    },
    {
      "cell_type": "code",
      "metadata": {
        "_uuid": "d629ff2d2480ee46fbb7e2d37f6b5fab8052498a",
        "_cell_guid": "79c7e3d0-c299-4dcb-8224-4455121ee9b0",
        "trusted": true,
        "id": "Q9BGgGTxC-Pi",
        "colab_type": "code",
        "colab": {}
      },
      "source": [
        "# Specify the location of training and test file\n",
        "training_file = 'gdrive/My Drive/shopee/train.csv'\n",
        "test_file = 'gdrive/My Drive/shopee/test.csv'"
      ],
      "execution_count": 3,
      "outputs": []
    },
    {
      "cell_type": "code",
      "metadata": {
        "trusted": true,
        "id": "Q3JTByjnC-Pn",
        "colab_type": "code",
        "colab": {}
      },
      "source": [
        "# Load to dataframe\n",
        "training_data = pd.read_csv(training_file)\n",
        "test_data = pd.read_csv(test_file)"
      ],
      "execution_count": 4,
      "outputs": []
    },
    {
      "cell_type": "code",
      "metadata": {
        "trusted": true,
        "id": "XdBdq8TmC-Pp",
        "colab_type": "code",
        "colab": {
          "base_uri": "https://localhost:8080/",
          "height": 195
        },
        "outputId": "5b5cd263-cf3d-4916-da86-529daf2b858c"
      },
      "source": [
        "# Show some examples of training data\n",
        "training_data.head()"
      ],
      "execution_count": 5,
      "outputs": [
        {
          "output_type": "execute_result",
          "data": {
            "text/html": [
              "<div>\n",
              "<style scoped>\n",
              "    .dataframe tbody tr th:only-of-type {\n",
              "        vertical-align: middle;\n",
              "    }\n",
              "\n",
              "    .dataframe tbody tr th {\n",
              "        vertical-align: top;\n",
              "    }\n",
              "\n",
              "    .dataframe thead th {\n",
              "        text-align: right;\n",
              "    }\n",
              "</style>\n",
              "<table border=\"1\" class=\"dataframe\">\n",
              "  <thead>\n",
              "    <tr style=\"text-align: right;\">\n",
              "      <th></th>\n",
              "      <th>review_id</th>\n",
              "      <th>review</th>\n",
              "      <th>rating</th>\n",
              "    </tr>\n",
              "  </thead>\n",
              "  <tbody>\n",
              "    <tr>\n",
              "      <th>0</th>\n",
              "      <td>0</td>\n",
              "      <td>Ga disappointed neat products .. Meletot Hilsn...</td>\n",
              "      <td>1</td>\n",
              "    </tr>\n",
              "    <tr>\n",
              "      <th>1</th>\n",
              "      <td>1</td>\n",
              "      <td>Rdtanya replace broken glass, broken chargernya</td>\n",
              "      <td>1</td>\n",
              "    </tr>\n",
              "    <tr>\n",
              "      <th>2</th>\n",
              "      <td>2</td>\n",
              "      <td>Nyesel bngt dsni shopping antecedent photo mes...</td>\n",
              "      <td>1</td>\n",
              "    </tr>\n",
              "    <tr>\n",
              "      <th>3</th>\n",
              "      <td>3</td>\n",
              "      <td>Sent a light blue suit goods ga want a refund</td>\n",
              "      <td>1</td>\n",
              "    </tr>\n",
              "    <tr>\n",
              "      <th>4</th>\n",
              "      <td>4</td>\n",
              "      <td>Pendants came with dents and scratches on its ...</td>\n",
              "      <td>1</td>\n",
              "    </tr>\n",
              "  </tbody>\n",
              "</table>\n",
              "</div>"
            ],
            "text/plain": [
              "   review_id                                             review  rating\n",
              "0          0  Ga disappointed neat products .. Meletot Hilsn...       1\n",
              "1          1    Rdtanya replace broken glass, broken chargernya       1\n",
              "2          2  Nyesel bngt dsni shopping antecedent photo mes...       1\n",
              "3          3      Sent a light blue suit goods ga want a refund       1\n",
              "4          4  Pendants came with dents and scratches on its ...       1"
            ]
          },
          "metadata": {
            "tags": []
          },
          "execution_count": 5
        }
      ]
    },
    {
      "cell_type": "code",
      "metadata": {
        "trusted": true,
        "id": "Bg3UYz5nC-Ps",
        "colab_type": "code",
        "colab": {
          "base_uri": "https://localhost:8080/",
          "height": 34
        },
        "outputId": "b6d6bdb4-7754-4d59-d0df-e37bcd95decf"
      },
      "source": [
        "# Show number of samples\n",
        "training_data.shape[0]"
      ],
      "execution_count": 6,
      "outputs": [
        {
          "output_type": "execute_result",
          "data": {
            "text/plain": [
              "146811"
            ]
          },
          "metadata": {
            "tags": []
          },
          "execution_count": 6
        }
      ]
    },
    {
      "cell_type": "code",
      "metadata": {
        "trusted": true,
        "id": "H0VgLvx5C-Pw",
        "colab_type": "code",
        "colab": {
          "base_uri": "https://localhost:8080/",
          "height": 195
        },
        "outputId": "439e3b62-cccc-4849-dcc0-cf42f951bda1"
      },
      "source": [
        "# Show some examples of test data\n",
        "test_data.head()"
      ],
      "execution_count": 7,
      "outputs": [
        {
          "output_type": "execute_result",
          "data": {
            "text/html": [
              "<div>\n",
              "<style scoped>\n",
              "    .dataframe tbody tr th:only-of-type {\n",
              "        vertical-align: middle;\n",
              "    }\n",
              "\n",
              "    .dataframe tbody tr th {\n",
              "        vertical-align: top;\n",
              "    }\n",
              "\n",
              "    .dataframe thead th {\n",
              "        text-align: right;\n",
              "    }\n",
              "</style>\n",
              "<table border=\"1\" class=\"dataframe\">\n",
              "  <thead>\n",
              "    <tr style=\"text-align: right;\">\n",
              "      <th></th>\n",
              "      <th>review_id</th>\n",
              "      <th>review</th>\n",
              "    </tr>\n",
              "  </thead>\n",
              "  <tbody>\n",
              "    <tr>\n",
              "      <th>0</th>\n",
              "      <td>1</td>\n",
              "      <td>Great danger, cool, motif and cantik2 jg model...</td>\n",
              "    </tr>\n",
              "    <tr>\n",
              "      <th>1</th>\n",
              "      <td>2</td>\n",
              "      <td>One of the shades don't fit well</td>\n",
              "    </tr>\n",
              "    <tr>\n",
              "      <th>2</th>\n",
              "      <td>3</td>\n",
              "      <td>Very comfortable</td>\n",
              "    </tr>\n",
              "    <tr>\n",
              "      <th>3</th>\n",
              "      <td>4</td>\n",
              "      <td>Fast delivery. Product expiry is on Dec 2022. ...</td>\n",
              "    </tr>\n",
              "    <tr>\n",
              "      <th>4</th>\n",
              "      <td>5</td>\n",
              "      <td>it's sooooo cute! i like playing with the glit...</td>\n",
              "    </tr>\n",
              "  </tbody>\n",
              "</table>\n",
              "</div>"
            ],
            "text/plain": [
              "   review_id                                             review\n",
              "0          1  Great danger, cool, motif and cantik2 jg model...\n",
              "1          2                   One of the shades don't fit well\n",
              "2          3                                   Very comfortable\n",
              "3          4  Fast delivery. Product expiry is on Dec 2022. ...\n",
              "4          5  it's sooooo cute! i like playing with the glit..."
            ]
          },
          "metadata": {
            "tags": []
          },
          "execution_count": 7
        }
      ]
    },
    {
      "cell_type": "code",
      "metadata": {
        "id": "Ymt3Hm8Tb3_R",
        "colab_type": "code",
        "colab": {}
      },
      "source": [
        "# Convert rating to score\n",
        "training_data['score'] = training_data.rating.apply(\n",
        "    lambda rating: rating / 5 - 0.1\n",
        ")"
      ],
      "execution_count": 8,
      "outputs": []
    },
    {
      "cell_type": "code",
      "metadata": {
        "trusted": true,
        "id": "Dy4GOkS1C-QA",
        "colab_type": "code",
        "colab": {
          "base_uri": "https://localhost:8080/",
          "height": 34
        },
        "outputId": "92ecb1b3-81fb-404a-e3f8-f5cdbc1c1e29"
      },
      "source": [
        "# Get review data\n",
        "reviews = training_data.review.tolist()\n",
        "print(reviews[-1])"
      ],
      "execution_count": 9,
      "outputs": [
        {
          "output_type": "stream",
          "text": [
            " Excellent product quality excellent product price is very good delivery speed\n"
          ],
          "name": "stdout"
        }
      ]
    },
    {
      "cell_type": "code",
      "metadata": {
        "trusted": true,
        "id": "7d0-GPnwC-QD",
        "colab_type": "code",
        "colab": {}
      },
      "source": [
        "# Function to tokenize the words\n",
        "def tokenize(texts, num_words=None):\n",
        "    tokenizer = tf.keras.preprocessing.text.Tokenizer(\n",
        "        filters='',\n",
        "        num_words=num_words,\n",
        "        oov_token='<UNK>'\n",
        "    )\n",
        "    tokenizer.fit_on_texts(texts)\n",
        "  \n",
        "    sequences = tokenizer.texts_to_sequences(texts)\n",
        "    sequences = tf.keras.preprocessing.sequence.pad_sequences(\n",
        "        sequences,\n",
        "        padding='post'\n",
        "    )\n",
        "\n",
        "    return sequences, tokenizer"
      ],
      "execution_count": 10,
      "outputs": []
    },
    {
      "cell_type": "code",
      "metadata": {
        "trusted": true,
        "id": "rJ5-75r_C-QF",
        "colab_type": "code",
        "colab": {}
      },
      "source": [
        "# Tokenize the words\n",
        "sequences, tokenizer = tokenize(reviews, num_words=8000)"
      ],
      "execution_count": 11,
      "outputs": []
    },
    {
      "cell_type": "code",
      "metadata": {
        "trusted": true,
        "id": "DIcW3ogmC-QJ",
        "colab_type": "code",
        "colab": {}
      },
      "source": [
        "# Get score data\n",
        "scores = training_data.score.tolist()"
      ],
      "execution_count": 12,
      "outputs": []
    },
    {
      "cell_type": "code",
      "metadata": {
        "trusted": true,
        "id": "Nsj-4aTYC-QL",
        "colab_type": "code",
        "colab": {}
      },
      "source": [
        "# Creating training and validation sets using an 80-20 split\n",
        "x_train, x_validation, y_train, y_validation = train_test_split(\n",
        "    sequences, \n",
        "    scores, \n",
        "    test_size=0.2\n",
        ")"
      ],
      "execution_count": 13,
      "outputs": []
    },
    {
      "cell_type": "code",
      "metadata": {
        "trusted": true,
        "id": "uvnBtWz2C-QO",
        "colab_type": "code",
        "colab": {}
      },
      "source": [
        "# Create tf dataset\n",
        "BUFFER_SIZE = len(x_train)\n",
        "BATCH_SIZE = 64\n",
        "\n",
        "train_set = tf.data.Dataset.from_tensor_slices((x_train, y_train))\n",
        "train_set = train_set.shuffle(BUFFER_SIZE)\n",
        "train_set = train_set.batch(BATCH_SIZE)\n",
        "\n",
        "validation_set = tf.data.Dataset.from_tensor_slices(\n",
        "    (x_validation, y_validation)\n",
        ")\n",
        "validation_set = validation_set.batch(BATCH_SIZE)"
      ],
      "execution_count": 14,
      "outputs": []
    },
    {
      "cell_type": "code",
      "metadata": {
        "trusted": true,
        "id": "qmRm0PEKC-QR",
        "colab_type": "code",
        "colab": {}
      },
      "source": [
        "# Define the model\n",
        "model = tf.keras.Sequential([\n",
        "    tf.keras.layers.Embedding(tokenizer.num_words, 64),\n",
        "    tf.keras.layers.Bidirectional(tf.keras.layers.LSTM(64)),\n",
        "    tf.keras.layers.Dense(64, activation='relu'),\n",
        "    tf.keras.layers.Dense(1, activation='sigmoid')\n",
        "])"
      ],
      "execution_count": 15,
      "outputs": []
    },
    {
      "cell_type": "code",
      "metadata": {
        "trusted": true,
        "id": "avM7sEm-C-QV",
        "colab_type": "code",
        "colab": {}
      },
      "source": [
        "# Compile the model\n",
        "model.compile(\n",
        "  loss=tf.keras.losses.MeanAbsoluteError(),\n",
        "  optimizer=tf.keras.optimizers.Adam(1e-4),\n",
        "  metrics=['mean_absolute_error']\n",
        ")"
      ],
      "execution_count": 16,
      "outputs": []
    },
    {
      "cell_type": "code",
      "metadata": {
        "trusted": true,
        "id": "aVcMuIR_C-QX",
        "colab_type": "code",
        "colab": {
          "base_uri": "https://localhost:8080/",
          "height": 353
        },
        "outputId": "3b746013-893a-47d1-8851-5a5486eb88f6"
      },
      "source": [
        "# Train the model\n",
        "history = model.fit(\n",
        "  train_set, \n",
        "  epochs=10,\n",
        "  validation_data=validation_set\n",
        ")"
      ],
      "execution_count": 17,
      "outputs": [
        {
          "output_type": "stream",
          "text": [
            "Epoch 1/10\n",
            "1836/1836 [==============================] - 66s 36ms/step - loss: 0.1624 - mean_absolute_error: 0.1624 - val_loss: 0.1440 - val_mean_absolute_error: 0.1440\n",
            "Epoch 2/10\n",
            "1836/1836 [==============================] - 67s 37ms/step - loss: 0.1387 - mean_absolute_error: 0.1387 - val_loss: 0.1396 - val_mean_absolute_error: 0.1396\n",
            "Epoch 3/10\n",
            "1836/1836 [==============================] - 67s 37ms/step - loss: 0.1336 - mean_absolute_error: 0.1336 - val_loss: 0.1378 - val_mean_absolute_error: 0.1378\n",
            "Epoch 4/10\n",
            "1836/1836 [==============================] - 67s 37ms/step - loss: 0.1306 - mean_absolute_error: 0.1306 - val_loss: 0.1372 - val_mean_absolute_error: 0.1372\n",
            "Epoch 5/10\n",
            "1836/1836 [==============================] - 68s 37ms/step - loss: 0.1281 - mean_absolute_error: 0.1281 - val_loss: 0.1359 - val_mean_absolute_error: 0.1359\n",
            "Epoch 6/10\n",
            "1836/1836 [==============================] - 67s 37ms/step - loss: 0.1261 - mean_absolute_error: 0.1261 - val_loss: 0.1354 - val_mean_absolute_error: 0.1354\n",
            "Epoch 7/10\n",
            "1836/1836 [==============================] - 67s 37ms/step - loss: 0.1242 - mean_absolute_error: 0.1242 - val_loss: 0.1353 - val_mean_absolute_error: 0.1353\n",
            "Epoch 8/10\n",
            "1836/1836 [==============================] - 68s 37ms/step - loss: 0.1224 - mean_absolute_error: 0.1224 - val_loss: 0.1341 - val_mean_absolute_error: 0.1341\n",
            "Epoch 9/10\n",
            "1836/1836 [==============================] - 67s 37ms/step - loss: 0.1207 - mean_absolute_error: 0.1207 - val_loss: 0.1331 - val_mean_absolute_error: 0.1331\n",
            "Epoch 10/10\n",
            "1836/1836 [==============================] - 67s 37ms/step - loss: 0.1190 - mean_absolute_error: 0.1190 - val_loss: 0.1329 - val_mean_absolute_error: 0.1329\n"
          ],
          "name": "stdout"
        }
      ]
    },
    {
      "cell_type": "code",
      "metadata": {
        "id": "qjjkSIbjYW1Z",
        "colab_type": "code",
        "colab": {}
      },
      "source": [
        "# Make prediction\n",
        "score_prediction = model.predict(x_validation)\n",
        "score_prediction = score_prediction.flatten().tolist()"
      ],
      "execution_count": 18,
      "outputs": []
    },
    {
      "cell_type": "code",
      "metadata": {
        "id": "eFWqzyI9PaYL",
        "colab_type": "code",
        "colab": {}
      },
      "source": [
        "# Function to convert score to rating\n",
        "def score_to_rating(input_list):\n",
        "    \n",
        "    result = []\n",
        "    for score in input_list:\n",
        "        if score < 0.2:\n",
        "            result.append(1)\n",
        "        elif 0.2 <= score < 0.4:\n",
        "            result.append(2)\n",
        "        elif 0.4 <= score < 0.6:\n",
        "            result.append(3)\n",
        "        elif 0.6 <= score < 0.8:\n",
        "            result.append(4)\n",
        "        else:\n",
        "            result.append(5)\n",
        "    \n",
        "    return(result)"
      ],
      "execution_count": 19,
      "outputs": []
    },
    {
      "cell_type": "code",
      "metadata": {
        "id": "VufKi1xcQGw2",
        "colab_type": "code",
        "colab": {}
      },
      "source": [
        "# Convert score to rating\n",
        "rating_prediction = score_to_rating(score_prediction)\n",
        "actual_prediction = score_to_rating(y_validation)"
      ],
      "execution_count": 20,
      "outputs": []
    },
    {
      "cell_type": "code",
      "metadata": {
        "id": "5XT4YVUxMjou",
        "colab_type": "code",
        "colab": {
          "base_uri": "https://localhost:8080/",
          "height": 34
        },
        "outputId": "b78bb91f-6fea-4d81-fd50-249b6e97b0f4"
      },
      "source": [
        "# Show accuracy \n",
        "accuracy_score(actual_prediction, rating_prediction)"
      ],
      "execution_count": 21,
      "outputs": [
        {
          "output_type": "execute_result",
          "data": {
            "text/plain": [
              "0.45713993801723257"
            ]
          },
          "metadata": {
            "tags": []
          },
          "execution_count": 21
        }
      ]
    },
    {
      "cell_type": "code",
      "metadata": {
        "id": "0fgtu8KapAfE",
        "colab_type": "code",
        "colab": {
          "base_uri": "https://localhost:8080/",
          "height": 50
        },
        "outputId": "6047867a-0f16-4e02-af87-42ca11568582"
      },
      "source": [
        "# Get test data\n",
        "test_reviews = test_data.review.tolist()\n",
        "test_sequences = tokenizer.texts_to_sequences(test_reviews)\n",
        "test_sequences = tf.keras.preprocessing.sequence.pad_sequences(\n",
        "    test_sequences,\n",
        "    padding='post',\n",
        "    maxlen=sequences.shape[1]\n",
        ")\n",
        "print(test_reviews[-1])"
      ],
      "execution_count": 22,
      "outputs": [
        {
          "output_type": "stream",
          "text": [
            "Rapid response and detail ...\n",
            "Thanks gan, the goods have been received well n packing a secure ....\n"
          ],
          "name": "stdout"
        }
      ]
    },
    {
      "cell_type": "code",
      "metadata": {
        "id": "Bd7D1AYtoOKx",
        "colab_type": "code",
        "colab": {}
      },
      "source": [
        "# Predict the test data\n",
        "prediction = model.predict(test_sequences)\n",
        "prediction = prediction.flatten().tolist()"
      ],
      "execution_count": 23,
      "outputs": []
    },
    {
      "cell_type": "code",
      "metadata": {
        "id": "PCmPY_2UX8iw",
        "colab_type": "code",
        "colab": {}
      },
      "source": [
        "# Convert score to rating\n",
        "prediction = score_to_rating(prediction)"
      ],
      "execution_count": 24,
      "outputs": []
    },
    {
      "cell_type": "code",
      "metadata": {
        "id": "p5GsZFa2rUyl",
        "colab_type": "code",
        "colab": {}
      },
      "source": [
        "# Add prediction to dataframe\n",
        "test_data['rating'] = prediction"
      ],
      "execution_count": 25,
      "outputs": []
    },
    {
      "cell_type": "code",
      "metadata": {
        "id": "yFgIg7oAsC1z",
        "colab_type": "code",
        "colab": {}
      },
      "source": [
        "# Export to a csv file\n",
        "test_data.loc[:, ['review_id', 'rating']].to_csv(\n",
        "    'submission.csv', index=False, header=True\n",
        ")"
      ],
      "execution_count": 26,
      "outputs": []
    }
  ]
}